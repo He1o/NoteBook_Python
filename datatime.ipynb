{
 "cells": [
  {
   "cell_type": "markdown",
   "metadata": {},
   "source": []
  },
  {
   "cell_type": "code",
   "execution_count": 45,
   "metadata": {},
   "outputs": [
    {
     "data": {
      "text/plain": "'1630449302'"
     },
     "execution_count": 45,
     "metadata": {},
     "output_type": "execute_result"
    }
   ],
   "source": [
    "import datetime as dt\n",
    "import pandas as pd\n",
    "import time\n",
    "import pytz\n",
    "from timezonefinder import TimezoneFinder\n",
    "tf = TimezoneFinder()\n",
    "ts = float(dt.datetime.utcnow().strftime(\"%s\"))\n",
    "dt.datetime.utcnow().strftime(\"%s\")"
   ]
  },
  {
   "cell_type": "code",
   "execution_count": 57,
   "metadata": {},
   "outputs": [
    {
     "data": {
      "text/plain": "'America/New_York'"
     },
     "execution_count": 57,
     "metadata": {},
     "output_type": "execute_result"
    }
   ],
   "source": [
    "time.time()\n",
    "tf.timezone_at(lng=float(-73.935242),lat=float(40.730610))\n",
    "# pytz.timezone()"
   ]
  },
  {
   "cell_type": "code",
   "execution_count": 53,
   "metadata": {},
   "outputs": [
    {
     "data": {
      "text/plain": "'Europe/Berlin'"
     },
     "execution_count": 53,
     "metadata": {},
     "output_type": "execute_result"
    }
   ],
   "source": [
    "pd.to_datetime('2021-08-30T00:32:25.000Z')\n",
    "tf = TimezoneFinder()\n",
    "latitude, longitude = 52.5061, 13.358\n",
    "tf.timezone_at(lng=longitude, lat=latitude)  # returns 'Europe/Berlin'"
   ]
  },
  {
   "cell_type": "code",
   "execution_count": 54,
   "metadata": {},
   "outputs": [
    {
     "data": {
      "text/plain": "-4.0"
     },
     "execution_count": 54,
     "metadata": {},
     "output_type": "execute_result"
    }
   ],
   "source": [
    "newyork_offset = dt.datetime.fromtimestamp(ts, pytz.timezone(tf.timezone_at(lng=float(-73.935242), lat=float(40.730610)))).utcoffset().total_seconds() / 60 / 60\n",
    "newyork_offset"
   ]
  }
 ],
 "metadata": {
  "kernelspec": {
   "display_name": "Python 3.9.5 64-bit",
   "metadata": {
    "interpreter": {
     "hash": "b8bdd4e700647ba2b08c59e5df8b7da1dcf50a218bcd4c1bcd9b3dc92e8788e5"
    }
   },
   "name": "python3"
  },
  "language_info": {
   "codemirror_mode": {
    "name": "ipython",
    "version": 3
   },
   "file_extension": ".py",
   "mimetype": "text/x-python",
   "name": "python",
   "nbconvert_exporter": "python",
   "pygments_lexer": "ipython3",
   "version": "3.9.5"
  },
  "orig_nbformat": 2
 },
 "nbformat": 4,
 "nbformat_minor": 2
}